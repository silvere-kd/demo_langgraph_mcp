{
 "cells": [
  {
   "cell_type": "markdown",
   "id": "5b82be6f",
   "metadata": {},
   "source": [
    "# <center>**`Project Details`**</center>\n",
    "\n",
    "#### **Purpose**:\n",
    "\n",
    "Our goal is to showcase how to connect LangGraph agent to an MCP server. The MCP server will expose tools for string analysis, while the client (LangGraph agent) will interact with these tools using Python subprocesses.\n",
    "\n",
    "Here is how the system works:\n",
    "\n",
    " - The MCP server exposes tools to perform arithmetic operations (multiplication and subtraction).\n",
    " - The Client launches the MCP server and creates a session using standard I/O to enable communication between the LangGraph agent and the MCP tools.\n",
    " - The agent loads these tools into its session, intakes the user’s natural language input, and decides whether a tool invocation is needed.\n",
    " - If the agent detects a suitable tool is available, it calls the MCP server through the client and retrieves the result.\n",
    " - The final response is returned to the user in natural language.\n",
    "\n",
    "#### **System Architecture**:\n",
    "\n",
    " 1. **MCP Server**: This component exposes computational tools using FastMCP.\n",
    " 2. **Custom Client using StdioClient**: We’ll implement a Python client using the StdioClient to interact with the server via subprocesses.\n",
    " 3. **LangGraph Agent**: We will build a custom ReAct agent using LangGraph. This agent will receive user’s input, decide whether a tool is needed, and if so, it will automatically load the appropriate tool from the MCP tools running in the connected server session.\n",
    " 4. **Session Communication**: The system uses standard I/O to allow two-way communication between the LangGraph agent and the MCP server.\n",
    "\n",
    "#### **Constraints**:\n",
    "\n",
    " - None\n",
    "\n",
    "\n",
    "#### **Tools**:\n",
    "\n",
    " - Use local **ollama** model\n",
    "\n",
    "#### **Requirements**:\n",
    " - Make it work as expected\n"
   ]
  },
  {
   "cell_type": "markdown",
   "id": "7786816a",
   "metadata": {},
   "source": [
    "***"
   ]
  },
  {
   "cell_type": "markdown",
   "id": "5260bc82",
   "metadata": {},
   "source": [
    "## <center>**`Implementation`**</center>"
   ]
  },
  {
   "cell_type": "markdown",
   "id": "bb31c94b",
   "metadata": {},
   "source": []
  },
  {
   "cell_type": "markdown",
   "id": "3dc0274d",
   "metadata": {},
   "source": [
    "### LLM"
   ]
  },
  {
   "cell_type": "code",
   "execution_count": null,
   "id": "442928f3",
   "metadata": {},
   "outputs": [],
   "source": [
    "#%%writefile src/llm/model_params.py\n",
    "# model variables\n",
    "MODEL_URL = \"http://ollama:11434\"\n",
    "MODEL_NAME = \"llama3.2\" # \"qwen3\" # \"mistral\" #\n",
    "MODEL_TEMP = 0.0"
   ]
  },
  {
   "cell_type": "code",
   "execution_count": 5,
   "id": "ddfe8d95",
   "metadata": {},
   "outputs": [],
   "source": [
    "#%%writefile src/llm/model_provider.py\n",
    "from langchain_ollama import ChatOllama\n",
    "#from src.llm.model_params import MODEL_URL, MODEL_NAME, MODEL_TEMP\n",
    "\n",
    "def load_model(url:str=MODEL_URL, model_name: str=MODEL_NAME, temperature:float=MODEL_TEMP, **kwargs):\n",
    "    \"\"\"Load local ollama model\"\"\"\n",
    "    return ChatOllama(base_url=url, model=model_name, temperature=temperature, **kwargs)"
   ]
  },
  {
   "cell_type": "markdown",
   "id": "5af1cea7",
   "metadata": {},
   "source": [
    "### ReAct agent in LangGraph"
   ]
  },
  {
   "cell_type": "markdown",
   "id": "49cb4da0",
   "metadata": {},
   "source": [
    "#### Agent State"
   ]
  },
  {
   "cell_type": "code",
   "execution_count": null,
   "id": "3df2aa5f",
   "metadata": {},
   "outputs": [
    {
     "name": "stdout",
     "output_type": "stream",
     "text": [
      "Writing src/agent/state.py\n"
     ]
    }
   ],
   "source": [
    "#%%writefile src/agent/state.py\n",
    "\n",
    "from typing import TypedDict, Annotated, List\n",
    "from langchain_core.messages import BaseMessage\n",
    "from langgraph.graph.message import add_messages\n",
    "\n",
    "class AgentState(TypedDict):\n",
    "    messages: Annotated[List[BaseMessage], add_messages]"
   ]
  },
  {
   "cell_type": "markdown",
   "id": "78c27c1c",
   "metadata": {},
   "source": [
    "#### Nodes"
   ]
  },
  {
   "cell_type": "code",
   "execution_count": null,
   "id": "39ecc274",
   "metadata": {},
   "outputs": [
    {
     "name": "stdout",
     "output_type": "stream",
     "text": [
      "Overwriting src/agent/nodes.py\n"
     ]
    }
   ],
   "source": [
    "#%%writefile src/agent/nodes.py\n",
    "#from src.agent.state import AgentState\n",
    "\n",
    "\n",
    "class ChatNode:\n",
    "    def __init__(self, llm):\n",
    "        self.llm = llm\n",
    "\n",
    "    async def __call__(self, state: AgentState) -> AgentState:\n",
    "        messages = state['messages']\n",
    "\n",
    "        response = await self.llm.ainvoke(messages)\n",
    "\n",
    "        state['messages'].append(response)\n",
    "        return state"
   ]
  },
  {
   "cell_type": "markdown",
   "id": "6220b0d2",
   "metadata": {},
   "source": [
    "#### Graph"
   ]
  },
  {
   "cell_type": "code",
   "execution_count": null,
   "id": "ad61aa80",
   "metadata": {},
   "outputs": [
    {
     "name": "stdout",
     "output_type": "stream",
     "text": [
      "Overwriting src/agent/graph.py\n"
     ]
    }
   ],
   "source": [
    "#%%writefile src/agent/graph.py\n",
    "\n",
    "from langgraph.graph import StateGraph, START\n",
    "from langchain_core.tools import Tool\n",
    "from typing import Optional, List\n",
    "from src.llm.model_params import MODEL_URL, MODEL_NAME, MODEL_TEMP\n",
    "from src.llm.model_provider import load_model\n",
    "from src.agent.nodes import ChatNode\n",
    "from src.agent.state import AgentState\n",
    "from langgraph.prebuilt import ToolNode, tools_condition\n",
    "from langchain_core.runnables import RunnableConfig\n",
    "from IPython.display import Image, display\n",
    "\n",
    "class AgentGraph:\n",
    "    def __init__(self, \n",
    "                 llm_model_url: str=MODEL_URL,\n",
    "                 llm_model_name: str=MODEL_NAME,\n",
    "                 ll_model_temp: float=MODEL_TEMP,\n",
    "                 tools:Optional[List[Tool]]=[]):\n",
    "        \n",
    "        llm = load_model(llm_model_url, llm_model_name, ll_model_temp)\n",
    "        self.tools = tools\n",
    "        self.llm = llm.bind_tools(tools) if self.tools else llm\n",
    "        self.chat_node = ChatNode(self.llm)\n",
    "\n",
    "    def graph_builder(self):\n",
    "        graph_builder = StateGraph(AgentState)\n",
    "\n",
    "        # nodes\n",
    "        graph_builder.add_node(\"llm\", self.chat_node)\n",
    "        graph_builder.add_node(\"tools\", ToolNode(tools=self.tools))\n",
    "\n",
    "        # edges\n",
    "        graph_builder.add_edge(START, \"llm\")\n",
    "        graph_builder.add_conditional_edges(\"llm\", tools_condition)\n",
    "        graph_builder.add_edge(\"tools\", \"llm\")\n",
    "\n",
    "        # compile\n",
    "        return graph_builder.compile()\n",
    "    \n",
    "    @property\n",
    "    def graph(self):\n",
    "        if hasattr(self, \"_graph\"):\n",
    "            return self._graph\n",
    "        self._graph = self.graph_builder()\n",
    "        return self._graph\n",
    "    \n",
    "    def display(self):\n",
    "        display(Image(self.graph.get_graph().draw_mermaid_png()))\n",
    "\n",
    "    def invoke(self, input:str, config: Optional[RunnableConfig]=None):\n",
    "        return self.graph.invoke(input, config)\n",
    "\n",
    "    async def ainvoke(self, input:str, config: Optional[RunnableConfig]=None):\n",
    "        return await self.graph.ainvoke(input, config)"
   ]
  },
  {
   "cell_type": "code",
   "execution_count": 12,
   "id": "fcdcba12",
   "metadata": {},
   "outputs": [
    {
     "data": {
      "image/png": "[encoded data removed]",
      "text/plain": [
       "<IPython.core.display.Image object>"
      ]
     },
     "metadata": {},
     "output_type": "display_data"
    }
   ],
   "source": [
    "graph = AgentGraph()\n",
    "graph.display()"
   ]
  },
  {
   "cell_type": "markdown",
   "id": "c7876ac5",
   "metadata": {},
   "source": [
    "#### MCP server"
   ]
  },
  {
   "cell_type": "code",
   "execution_count": null,
   "id": "c1318874",
   "metadata": {},
   "outputs": [
    {
     "name": "stdout",
     "output_type": "stream",
     "text": [
      "Overwriting mcp_server.py\n"
     ]
    }
   ],
   "source": [
    "%%writefile mcp_server.py\n",
    "\n",
    "from mcp.server.fastmcp import FastMCP\n",
    "\n",
    "mcp = FastMCP(\"CalculatorTools\")\n",
    "\n",
    "@mcp.tool()\n",
    "def multiply_numbers(a: int, b: int) -> int:\n",
    "    \"\"\"Returns the product of two integers\"\"\"\n",
    "    return a*b\n",
    "\n",
    "@mcp.tool()\n",
    "def subtract_numbers(a: int, b: int) -> int:\n",
    "    \"\"\"Returns the difference between two integers\"\"\"\n",
    "    return a-b\n",
    "\n",
    "if __name__ == \"__main__\":\n",
    "    mcp.run(transport=\"stdio\")"
   ]
  },
  {
   "cell_type": "markdown",
   "id": "7f022ae3",
   "metadata": {},
   "source": [
    "#### MCP client"
   ]
  },
  {
   "cell_type": "code",
   "execution_count": null,
   "id": "fef3c0fc",
   "metadata": {},
   "outputs": [
    {
     "name": "stdout",
     "output_type": "stream",
     "text": [
      "Overwriting mcp_client.py\n"
     ]
    }
   ],
   "source": [
    "#%%writefile mcp_client.py\n",
    "\n",
    "import asyncio\n",
    "from src.llm.model_params import MODEL_URL, MODEL_NAME, MODEL_TEMP\n",
    "from src.agent.graph import AgentGraph\n",
    "from mcp import ClientSession, StdioServerParameters\n",
    "from mcp.client.stdio import stdio_client\n",
    "from langchain_mcp_adapters.tools import load_mcp_tools\n",
    "from langchain_core.messages import SystemMessage, HumanMessage\n",
    "\n",
    "model = ChatOllama(base_url=MODEL_URL, model=MODEL_NAME, temperature=MODEL_TEMP)\n",
    "TOOL_ONLY_TASKS = {\"multiply_numbers\", \"subtract_numbers\"}\n",
    "\n",
    "\n",
    "async def main():\n",
    "    server_params = StdioServerParameters(\n",
    "        command=\"python\",\n",
    "        args=[\"mcp_server.py\"]\n",
    "    )\n",
    "\n",
    "    async with stdio_client(server_params) as (read, write):\n",
    "        async with ClientSession(read_stream=read, write_stream=write) as session:\n",
    "            await session.initialize()\n",
    "\n",
    "            all_tools = await load_mcp_tools(session=session)\n",
    "\n",
    "            strict_tools = [tool for tool in all_tools if tool.name in TOOL_ONLY_TASKS]\n",
    "\n",
    "            agent = AgentGraph(tools=strict_tools)\n",
    "\n",
    "            if strict_tools:\n",
    "                tool_descriptions = \"\\n\".join(\n",
    "                    f\"- {tool.name}: {tool.description}\" for tool in strict_tools\n",
    "                )\n",
    "\n",
    "                system_intruction = (\n",
    "                    \"You are a smart assistant. For general conversation and reasoning, you may use your own thinking.\\n\"\n",
    "                    \"However, for the following operations, you must never calculate by yourself. \"\n",
    "                    \"Always use the tools listed below:\\n\\n\"\n",
    "                    f\"{tool_descriptions}\\n\\n\"\n",
    "                    \"if user asks something that requries other tool, use your own thinking and answer it.\"                    \n",
    "                )\n",
    "\n",
    "                system_message = SystemMessage(content=system_intruction)\n",
    "            else:\n",
    "                system_message = SystemMessage(content=\"You are a helpful assistant. Use your own reasoning freely.\")\n",
    "\n",
    "            print(\"Calculator Assistant is ready. Type 'exit' to quit.\\n\")\n",
    "\n",
    "            while True:\n",
    "                user_input = input(\"You: \").strip()\n",
    "                if user_input.lower() in {\"exit\", \"quit\"}:\n",
    "                    print(\"Exiting...\")\n",
    "                    break\n",
    "\n",
    "                input_messages = [system_message, HumanMessage(content=user_input)]\n",
    "\n",
    "                try:\n",
    "                    result = await agent.ainvoke({\"messages\": input_messages})\n",
    "                    for m in result[\"messages\"]:\n",
    "                        m.pretty_print()\n",
    "                except Exception as e:\n",
    "                    print(\"Error:\", e)\n",
    "\n",
    "if __name__ == \"__main__\":\n",
    "    asyncio.run(main())"
   ]
  },
  {
   "cell_type": "code",
   "execution_count": null,
   "id": "86ec38cd",
   "metadata": {},
   "outputs": [],
   "source": []
  }
 ],
 "metadata": {
  "kernelspec": {
   "display_name": "uv_gpu_ollama_dev",
   "language": "python",
   "name": "python3"
  },
  "language_info": {
   "codemirror_mode": {
    "name": "ipython",
    "version": 3
   },
   "file_extension": ".py",
   "mimetype": "text/x-python",
   "name": "python",
   "nbconvert_exporter": "python",
   "pygments_lexer": "ipython3",
   "version": "3.10.14"
  }
 },
 "nbformat": 4,
 "nbformat_minor": 5
}
